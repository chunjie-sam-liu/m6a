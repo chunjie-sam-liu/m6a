{
 "cells": [
  {
   "cell_type": "code",
   "execution_count": 10,
   "metadata": {},
   "outputs": [
    {
     "name": "stdout",
     "output_type": "stream",
     "text": [
      "c-11-04\n"
     ]
    }
   ],
   "source": [
    "!hostname"
   ]
  },
  {
   "cell_type": "code",
   "execution_count": 11,
   "metadata": {},
   "outputs": [],
   "source": [
    "import gffutils"
   ]
  },
  {
   "cell_type": "code",
   "execution_count": 12,
   "metadata": {},
   "outputs": [],
   "source": [
    "fn = gffutils.example_filename('intro_docs_example.gff')"
   ]
  },
  {
   "attachments": {},
   "cell_type": "markdown",
   "metadata": {},
   "source": []
  },
  {
   "cell_type": "code",
   "execution_count": 15,
   "metadata": {},
   "outputs": [
    {
     "data": {
      "text/plain": [
       "'/home/liuc9/tools/anaconda3/lib/python3.10/site-packages/gffutils/test/data/intro_docs_example.gff'"
      ]
     },
     "execution_count": 15,
     "metadata": {},
     "output_type": "execute_result"
    }
   ],
   "source": [
    "fn"
   ]
  },
  {
   "cell_type": "code",
   "execution_count": 14,
   "metadata": {},
   "outputs": [
    {
     "name": "stdout",
     "output_type": "stream",
     "text": [
      "2L\tFlyBase\tgene\t7529\t9484\t.\t+\t.\tID=FBgn0031208;Name=CG11023;Ontology_term=SO:0000010,SO:0000087,GO:0016929,GO:0016926,GO:0006508;Dbxref=FlyBase:FBan0011023,FlyBase_Annotation_IDs:CG11023,GB_protein:ACZ94128,GB_protein:AAO41164,GB:AI944728,GB:AJ564667,GB_protein:CAD92822,GB:BF495604,UniProt/TrEMBL:Q86BM6,INTERPRO:IPR003653,GB_protein:AGB92323,UniProt/TrEMBL:M9PAY1,OrthoDB7_Drosophila:EOG796K1P,OrthoDB7_Diptera:EOG7X1604,EntrezGene:33155,UniProt/TrEMBL:E1JHP8,UniProt/TrEMBL:Q6KEV3,OrthoDB7_Insecta:EOG7Q8QM7,OrthoDB7_Arthropoda:EOG7R5K68,OrthoDB7_Metazoa:EOG7D59MP,InterologFinder:33155,BIOGRID:59420,FlyAtlas:CG11023-RA,GenomeRNAi:33155;gbunit=AE014134;derived_computed_cyto=21A5-21A5\n",
      "2L\tFlyBase\tmRNA\t7529\t9484\t.\t+\t.\tID=FBtr0300689;Name=CG11023-RB;Parent=FBgn0031208;Dbxref=REFSEQ:NM_001169365,FlyBase_Annotation_IDs:CG11023-RB;score_text=Strongly Supported;score=11\n",
      "2L\tFlyBase\tmRNA\t7529\t9484\t.\t+\t.\tID=FBtr0300690;Name=CG11023-RC;Parent=FBgn0031208;Dbxref=REFSEQ:NM_175941,FlyBase_Annotation_IDs:CG11023-RC;score_text=Strongly Supported;score=15\n",
      "2L\tFlyBase\tmRNA\t7529\t9484\t.\t+\t.\tID=FBtr0330654;Name=CG11023-RD;Parent=FBgn0031208;Dbxref=FlyBase_Annotation_IDs:CG11023-RD,REFSEQ:NM_001272857;score_text=Strongly Supported;score=11\n",
      "2L\tFlyBase\texon\t7529\t8116\t.\t+\t.\tName=CG11023:1;Parent=FBtr0300689,FBtr0300690,FBtr0330654;parent_type=mRNA\n",
      "2L\tFlyBase\tfive_prime_UTR\t7529\t7679\t.\t+\t.\tName=CG11023-u5;Parent=FBtr0300689,FBtr0300690;parent_type=mRNA\n",
      "2L\tFlyBase\tfive_prime_UTR\t7529\t7679\t.\t+\t.\tName=CG11023-u5;Parent=FBtr0330654;parent_type=mRNA\n",
      "2L\tFlyBase\tCDS\t7680\t8116\t.\t+\t0\tName=CG11023-cds;Parent=FBtr0300689,FBtr0300690;parent_type=mRNA\n",
      "2L\tFlyBase\tCDS\t7680\t8116\t.\t+\t0\tName=CG11023-cds;Parent=FBtr0330654;parent_type=mRNA\n",
      "2L\tFlyBase\tintron\t8117\t8228\t.\t+\t.\tName=CG11023-in;Parent=FBtr0330654;parent_type=mRNA\n",
      "2L\tFlyBase\tintron\t8117\t8192\t.\t+\t.\tName=CG11023-in;Parent=FBtr0300689;parent_type=mRNA\n",
      "2L\tFlyBase\tintron\t8117\t8192\t.\t+\t.\tName=CG11023-in;Parent=FBtr0300690;parent_type=mRNA\n",
      "2L\tFlyBase\texon\t8193\t9484\t.\t+\t.\tName=CG11023:3;Parent=FBtr0300689;parent_type=mRNA\n",
      "2L\tFlyBase\tCDS\t8193\t8610\t.\t+\t1\tName=CG11023-cds;Parent=FBtr0300689;parent_type=mRNA\n",
      "2L\tFlyBase\tCDS\t8193\t8589\t.\t+\t1\tName=CG11023-cds;Parent=FBtr0300690;parent_type=mRNA\n",
      "2L\tFlyBase\texon\t8193\t8589\t.\t+\t.\tName=CG11023:2;Parent=FBtr0300690;parent_type=mRNA\n",
      "2L\tFlyBase\texon\t8229\t9484\t.\t+\t.\tName=CG11023:4;Parent=FBtr0330654;parent_type=mRNA\n",
      "2L\tFlyBase\tCDS\t8229\t8610\t.\t+\t1\tName=CG11023-cds;Parent=FBtr0330654;parent_type=mRNA\n",
      "2L\tFlyBase\tintron\t8590\t8667\t.\t+\t.\tName=CG11023-in;Parent=FBtr0300690;parent_type=mRNA\n",
      "2L\tFlyBase\tthree_prime_UTR\t8611\t9484\t.\t+\t.\tName=CG11023-u3;Parent=FBtr0300689;parent_type=mRNA\n",
      "2L\tFlyBase\tthree_prime_UTR\t8611\t9484\t.\t+\t.\tName=CG11023-u3;Parent=FBtr0330654;parent_type=mRNA\n",
      "2L\tFlyBase\tthree_prime_UTR\t9277\t9484\t.\t+\t.\tName=CG11023-u3;Parent=FBtr0300690;parent_type=mRNA\n",
      "2L\tFlyBase\texon\t8668\t9484\t.\t+\t.\tName=CG11023:5;Parent=FBtr0300690;parent_type=mRNA\n",
      "2L\tFlyBase\tCDS\t8668\t9276\t.\t+\t0\tName=CG11023-cds;Parent=FBtr0300690;parent_type=mRNA\n",
      "\n"
     ]
    }
   ],
   "source": [
    "print(open(fn).read())"
   ]
  },
  {
   "cell_type": "code",
   "execution_count": 16,
   "metadata": {},
   "outputs": [],
   "source": [
    "db = gffutils.create_db(fn, '/home/liuc9/tools/gffutils/test.db', force=True, keep_order=True, merge_strategy='merge', sort_attribute_values=True)"
   ]
  },
  {
   "cell_type": "code",
   "execution_count": 18,
   "metadata": {},
   "outputs": [
    {
     "data": {
      "text/plain": [
       "<gffutils.interface.FeatureDB at 0x7fffd2486350>"
      ]
     },
     "execution_count": 18,
     "metadata": {},
     "output_type": "execute_result"
    }
   ],
   "source": [
    "db"
   ]
  },
  {
   "cell_type": "code",
   "execution_count": 20,
   "metadata": {},
   "outputs": [],
   "source": [
    "gene = db['FBgn0031208']"
   ]
  },
  {
   "cell_type": "code",
   "execution_count": 21,
   "metadata": {},
   "outputs": [
    {
     "name": "stdout",
     "output_type": "stream",
     "text": [
      "2L\tFlyBase\tgene\t7529\t9484\t.\t+\t.\tID=FBgn0031208;Name=CG11023;Ontology_term=GO:0006508,GO:0016926,GO:0016929,SO:0000010,SO:0000087;Dbxref=BIOGRID:59420,EntrezGene:33155,FlyAtlas:CG11023-RA,FlyBase:FBan0011023,FlyBase_Annotation_IDs:CG11023,GB:AI944728,GB:AJ564667,GB:BF495604,GB_protein:AAO41164,GB_protein:ACZ94128,GB_protein:AGB92323,GB_protein:CAD92822,GenomeRNAi:33155,INTERPRO:IPR003653,InterologFinder:33155,OrthoDB7_Arthropoda:EOG7R5K68,OrthoDB7_Diptera:EOG7X1604,OrthoDB7_Drosophila:EOG796K1P,OrthoDB7_Insecta:EOG7Q8QM7,OrthoDB7_Metazoa:EOG7D59MP,UniProt/TrEMBL:E1JHP8,UniProt/TrEMBL:M9PAY1,UniProt/TrEMBL:Q6KEV3,UniProt/TrEMBL:Q86BM6;gbunit=AE014134;derived_computed_cyto=21A5-21A5\n"
     ]
    }
   ],
   "source": [
    "print(gene)"
   ]
  },
  {
   "cell_type": "code",
   "execution_count": null,
   "metadata": {},
   "outputs": [],
   "source": []
  }
 ],
 "metadata": {
  "kernelspec": {
   "display_name": "Python 3 (ipykernel)",
   "language": "python",
   "name": "python3"
  },
  "orig_nbformat": 4
 },
 "nbformat": 4,
 "nbformat_minor": 2
}
